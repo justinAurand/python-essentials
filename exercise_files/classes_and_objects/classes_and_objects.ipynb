{
 "cells": [
  {
   "cell_type": "markdown",
   "metadata": {},
   "source": [
    "# Classes and Objects"
   ]
  },
  {
   "cell_type": "markdown",
   "metadata": {},
   "source": [
    "## Classes"
   ]
  },
  {
   "cell_type": "code",
   "execution_count": 1,
   "metadata": {},
   "outputs": [
    {
     "name": "stdout",
     "output_type": "stream",
     "text": [
      "Rover says: Bark!\n",
      "Rover\n",
      "breakfast\n"
     ]
    }
   ],
   "source": [
    "class Dog:\n",
    "    # I'm surprised it's public get/set by default... I thought I liked this language :(\n",
    "    def __init__(self, name='Rover'):\n",
    "        self.name = name\n",
    "        self.legs = 4\n",
    "\n",
    "    def speak(self):\n",
    "        print(self.name + ' says: Bark!')\n",
    "\n",
    "my_dog = Dog()\n",
    "my_dog.speak()\n",
    "print(my_dog.name)\n",
    "my_dog.name = 'breakfast'\n",
    "print(my_dog.name)"
   ]
  },
  {
   "cell_type": "code",
   "execution_count": 14,
   "metadata": {},
   "outputs": [
    {
     "name": "stdout",
     "output_type": "stream",
     "text": [
      "Rover is chillin with Fluffy\n"
     ]
    }
   ],
   "source": [
    "my_dog = Dog()\n",
    "another_dog = Dog('Fluffy')\n",
    "print(my_dog.name + ' is chillin with ' + another_dog.name)"
   ]
  }
 ],
 "metadata": {
  "kernelspec": {
   "display_name": "Python 3",
   "language": "python",
   "name": "python3"
  },
  "language_info": {
   "codemirror_mode": {
    "name": "ipython",
    "version": 3
   },
   "file_extension": ".py",
   "mimetype": "text/x-python",
   "name": "python",
   "nbconvert_exporter": "python",
   "pygments_lexer": "ipython3",
   "version": "3.12.3"
  }
 },
 "nbformat": 4,
 "nbformat_minor": 2
}
