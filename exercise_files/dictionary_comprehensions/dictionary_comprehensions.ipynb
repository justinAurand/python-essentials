{
 "cells": [
  {
   "cell_type": "markdown",
   "metadata": {},
   "source": [
    "# Dictionary Comprehensions"
   ]
  },
  {
   "cell_type": "code",
   "execution_count": 9,
   "metadata": {},
   "outputs": [
    {
     "name": "stdout",
     "output_type": "stream",
     "text": [
      "[('a', 'aardvark'), ('b', 'bear'), ('c', 'cat'), ('d', 'dog')]\n"
     ]
    }
   ],
   "source": [
    "animalList = [\n",
    "    ('a', 'aardvark'),\n",
    "    ('b', 'bear'),\n",
    "    ('c', 'cat'),\n",
    "    ('d', 'dog'),\n",
    "]\n",
    "print(animalList)"
   ]
  },
  {
   "cell_type": "code",
   "execution_count": 10,
   "metadata": {},
   "outputs": [
    {
     "name": "stdout",
     "output_type": "stream",
     "text": [
      "{'a': 'aardvark', 'b': 'bear', 'c': 'cat', 'd': 'dog'}\n"
     ]
    }
   ],
   "source": [
    "animals = {item[0]: item[1] for item in animalList}\n",
    "print(animals)"
   ]
  },
  {
   "cell_type": "code",
   "execution_count": 11,
   "metadata": {},
   "outputs": [
    {
     "name": "stdout",
     "output_type": "stream",
     "text": [
      "{'a': 'aardvark', 'b': 'bear', 'c': 'cat', 'd': 'dog'}\n"
     ]
    }
   ],
   "source": [
    "animals = {key: value for key, value in animalList}\n",
    "print(animals)"
   ]
  },
  {
   "cell_type": "code",
   "execution_count": 12,
   "metadata": {},
   "outputs": [
    {
     "name": "stdout",
     "output_type": "stream",
     "text": [
      "dict_items([('a', 'aardvark'), ('b', 'bear'), ('c', 'cat'), ('d', 'dog')])\n"
     ]
    }
   ],
   "source": [
    "print(animals.items())"
   ]
  },
  {
   "cell_type": "code",
   "execution_count": 13,
   "metadata": {},
   "outputs": [
    {
     "name": "stdout",
     "output_type": "stream",
     "text": [
      "[('a', 'aardvark'), ('b', 'bear'), ('c', 'cat'), ('d', 'dog')]\n"
     ]
    }
   ],
   "source": [
    "print(list(animals.items()))"
   ]
  },
  {
   "cell_type": "code",
   "execution_count": 14,
   "metadata": {},
   "outputs": [
    {
     "name": "stdout",
     "output_type": "stream",
     "text": [
      "[{'letter': 'a', 'name': 'aardvark'}, {'letter': 'b', 'name': 'bear'}, {'letter': 'c', 'name': 'cat'}, {'letter': 'd', 'name': 'dog'}]\n"
     ]
    }
   ],
   "source": [
    "print([{'letter': key, 'name': value} for key, value in animals.items()])"
   ]
  }
 ],
 "metadata": {
  "kernelspec": {
   "display_name": "Python 3",
   "language": "python",
   "name": "python3"
  },
  "language_info": {
   "codemirror_mode": {
    "name": "ipython",
    "version": 3
   },
   "file_extension": ".py",
   "mimetype": "text/x-python",
   "name": "python",
   "nbconvert_exporter": "python",
   "pygments_lexer": "ipython3",
   "version": "3.12.3"
  }
 },
 "nbformat": 4,
 "nbformat_minor": 2
}
