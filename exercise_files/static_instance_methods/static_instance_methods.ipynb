{
 "cells": [
  {
   "cell_type": "markdown",
   "metadata": {},
   "source": [
    "# Static and Instance Methods"
   ]
  },
  {
   "cell_type": "code",
   "execution_count": 3,
   "metadata": {},
   "outputs": [
    {
     "name": "stdout",
     "output_type": "stream",
     "text": [
      "{'ryan', 'hi', 'text', 'more', 'im', 'heres'}\n"
     ]
    }
   ],
   "source": [
    "class WordSet:\n",
    "    # static attribute\n",
    "    replacePuncs = ['!', '.', ',', '\\'']\n",
    "\n",
    "    def __init__(self):\n",
    "        # instance attribute\n",
    "        self.words = set()\n",
    "\n",
    "    # instance method\n",
    "    def addText(self, text):\n",
    "        text = WordSet.cleanText(text)\n",
    "        for word in text.split():\n",
    "            self.words.add(word)\n",
    "\n",
    "    # static method\n",
    "    def cleanText(text):\n",
    "        for punc in WordSet.replacePuncs:\n",
    "            text = text.replace(punc, '')\n",
    "        return text.lower()\n",
    "\n",
    "wordSet = WordSet()\n",
    "\n",
    "wordSet.addText('Hi, I\\'m Ryan')\n",
    "wordSet.addText('Here\\'s more text')\n",
    "\n",
    "print(wordSet.words)"
   ]
  },
  {
   "cell_type": "markdown",
   "metadata": {},
   "source": [
    "# Decorators"
   ]
  },
  {
   "cell_type": "code",
   "execution_count": 4,
   "metadata": {},
   "outputs": [
    {
     "name": "stdout",
     "output_type": "stream",
     "text": [
      "{'ryan', 'hi', 'text', 'more', 'im', 'heres'}\n"
     ]
    }
   ],
   "source": [
    "class WordSet:\n",
    "    # static attribute\n",
    "    replacePuncs = ['!', '.', ',', '\\'']\n",
    "\n",
    "    def __init__(self):\n",
    "        # instance attribute\n",
    "        self.words = set()\n",
    "\n",
    "    # instance method\n",
    "    def addText(self, text):\n",
    "        text = self.cleanText(text)\n",
    "        for word in text.split():\n",
    "            self.words.add(word)\n",
    "\n",
    "    @staticmethod\n",
    "    def cleanText(text):\n",
    "        for punc in WordSet.replacePuncs:\n",
    "            text = text.replace(punc, '')\n",
    "        return text.lower()\n",
    "\n",
    "wordSet = WordSet()\n",
    "\n",
    "wordSet.addText('Hi, I\\'m Ryan')\n",
    "wordSet.addText('Here\\'s more text')\n",
    "\n",
    "print(wordSet.words)"
   ]
  }
 ],
 "metadata": {
  "kernelspec": {
   "display_name": "Python 3",
   "language": "python",
   "name": "python3"
  },
  "language_info": {
   "codemirror_mode": {
    "name": "ipython",
    "version": 3
   },
   "file_extension": ".py",
   "mimetype": "text/x-python",
   "name": "python",
   "nbconvert_exporter": "python",
   "pygments_lexer": "ipython3",
   "version": "3.12.3"
  }
 },
 "nbformat": 4,
 "nbformat_minor": 2
}
