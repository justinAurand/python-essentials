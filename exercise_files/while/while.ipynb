{
 "cells": [
  {
   "cell_type": "markdown",
   "metadata": {},
   "source": [
    "# While"
   ]
  },
  {
   "cell_type": "code",
   "execution_count": 33,
   "metadata": {},
   "outputs": [],
   "source": [
    "from datetime import datetime"
   ]
  },
  {
   "cell_type": "code",
   "execution_count": 34,
   "metadata": {},
   "outputs": [
    {
     "name": "stdout",
     "output_type": "stream",
     "text": [
      "2024-07-15 16:56:46.129184\n",
      "16\n",
      "56\n",
      "46\n"
     ]
    }
   ],
   "source": [
    "print(datetime.now())\n",
    "print(datetime.now().hour)\n",
    "print(datetime.now().minute)\n",
    "print(datetime.now().second)"
   ]
  },
  {
   "cell_type": "code",
   "execution_count": 35,
   "metadata": {},
   "outputs": [
    {
     "name": "stdout",
     "output_type": "stream",
     "text": [
      "51\n"
     ]
    }
   ],
   "source": [
    "# For 4 seconds into the future, 58 + 5 needs to become 3, not 63\n",
    "(print(datetime.now().second + 5 % 60))"
   ]
  },
  {
   "cell_type": "code",
   "execution_count": null,
   "metadata": {},
   "outputs": [],
   "source": [
    "wait_until = (datetime.now().second + 2) % 60\n",
    "\n",
    "while datetime.now().second != wait_until:\n",
    "    print('Still waiting...')\n",
    "print(f'We are at {wait_until} seconds!')\n"
   ]
  },
  {
   "cell_type": "markdown",
   "metadata": {},
   "source": [
    "## Pass"
   ]
  },
  {
   "cell_type": "code",
   "execution_count": 37,
   "metadata": {},
   "outputs": [
    {
     "name": "stdout",
     "output_type": "stream",
     "text": [
      "We are at 50 seconds!\n"
     ]
    }
   ],
   "source": [
    "wait_until2 = (datetime.now().second + 2) % 60\n",
    "\n",
    "while datetime.now().second != wait_until2:\n",
    "    pass\n",
    "print(f'We are at {wait_until2} seconds!')"
   ]
  },
  {
   "cell_type": "markdown",
   "metadata": {},
   "source": [
    "## Break"
   ]
  },
  {
   "cell_type": "code",
   "execution_count": 39,
   "metadata": {},
   "outputs": [
    {
     "name": "stdout",
     "output_type": "stream",
     "text": [
      "We are at 32 seconds!\n"
     ]
    }
   ],
   "source": [
    "wait_until3 = (datetime.now().second + 2) % 60\n",
    "\n",
    "while True:\n",
    "    if datetime.now().second == wait_until3:\n",
    "        print(f'We are at {wait_until3} seconds!')\n",
    "        break"
   ]
  },
  {
   "cell_type": "markdown",
   "metadata": {},
   "source": [
    "## Continue"
   ]
  },
  {
   "cell_type": "code",
   "execution_count": 40,
   "metadata": {},
   "outputs": [
    {
     "name": "stdout",
     "output_type": "stream",
     "text": [
      "We are at 32 seconds!\n"
     ]
    }
   ],
   "source": [
    "wait_until4 = (datetime.now().second + 2) % 60\n",
    "\n",
    "while True:\n",
    "    if datetime.now().second < wait_until4:\n",
    "        continue\n",
    "    break\n",
    "print(f'We are at {wait_until4} seconds!')"
   ]
  }
 ],
 "metadata": {
  "kernelspec": {
   "display_name": "Python 3",
   "language": "python",
   "name": "python3"
  },
  "language_info": {
   "codemirror_mode": {
    "name": "ipython",
    "version": 3
   },
   "file_extension": ".py",
   "mimetype": "text/x-python",
   "name": "python",
   "nbconvert_exporter": "python",
   "pygments_lexer": "ipython3",
   "version": "3.12.3"
  }
 },
 "nbformat": 4,
 "nbformat_minor": 2
}
